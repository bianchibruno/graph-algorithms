{
 "cells": [
  {
   "cell_type": "markdown",
   "metadata": {},
   "source": [
    "# Graham scan algorithm"
   ]
  },
  {
   "cell_type": "markdown",
   "metadata": {},
   "source": [
    "Use the cell below for all python code needed to realise the Graham scan algorithm (including any auxiliary data structures and functions you might need). The `grahamscan()` function itself should take as input parameter a list of 2D points (`inputSet`), and return the subset of such points that lie on the convex hull (`outputSet`)."
   ]
  },
  {
   "cell_type": "code",
   "execution_count": 12,
   "metadata": {},
   "outputs": [],
   "source": [
    "import math\n",
    "\n",
    "\n",
    "class Stack:\n",
    "    def __init__(self):\n",
    "        self.items = []\n",
    "\n",
    "    def is_empty(self):\n",
    "        return self.items == []\n",
    "    \n",
    "    def push(self, item):\n",
    "        self.items.append(item)\n",
    "\n",
    "    def pop(self):\n",
    "        return self.items.pop()\n",
    "\n",
    "    def peek(self):\n",
    "        return self.items[len(self.items)-1]\n",
    "\n",
    "    def size(self):\n",
    "        return len(self.items)\n",
    "\n",
    "    def next_to_top(self):\n",
    "        return self.items[len(self.items) - 2]\n",
    "\n",
    "    def get_items(self):\n",
    "        return self.items\n",
    "    \n",
    "    def get_numbered_items(self, number):\n",
    "        return self.items[number]\n",
    "\n",
    "\n",
    "def remove_points(sorted_list):\n",
    "    pass\n",
    "\n",
    "def grahamscan(input_set):\n",
    "    global lowest_point\n",
    "    g_stack = Stack()\n",
    "\n",
    "    lowest_point = find_lowest_point(input_set)\n",
    "    \n",
    "    sorted_list = sorted(input_set, key = angle_between_leftmost_lowest)\n",
    "\n",
    "    for point in sorted_list:\n",
    "        while g_stack.size() > 2 and ccw(g_stack.next_to_top(), g_stack.peek(), point) <=  0:\n",
    "            g_stack.pop()\n",
    "        g_stack.push(point)\n",
    "    g_stack.push(sorted_list[len(sorted_list) - 1])\n",
    "    \n",
    "    return g_stack\n",
    "    \n",
    "def get_elems_stack(stack):\n",
    "    list_stack = []\n",
    "    for elem_num in range (0, stack.size() -1):\n",
    "        elemSearched = stack.get_numbered_items(elem_num)\n",
    "        list_stack.append(elemSearched)\n",
    "    return list_stack\n",
    "    \n",
    "    \n",
    "def angle_between_leftmost_lowest(coord):\n",
    "    global lowest_point\n",
    "    b = lowest_point[0]-coord[0]\n",
    "    if b == 0:\n",
    "        return 0\n",
    "    else:\n",
    "        angle = (lowest_point[1]-coord[1]) / b \n",
    "        if angle >= 0:\n",
    "            angle = math.atan(angle)\n",
    "        else:\n",
    "            angle = math.atan(angle) + math.pi\n",
    "        return angle\n",
    "\n",
    "def ccw(next_to_top, top_of_stack, point):\n",
    "    return (top_of_stack[1] - point[1]) * (next_to_top[0] - point[0]) - (next_to_top[1] - point[1]) * (top_of_stack[0] - point[0])\n",
    "    \n",
    "\n",
    "def find_lowest_point(list_of_points):\n",
    "    min_y = 32767\n",
    "    x_coor = 32767\n",
    "    for point in list_of_points:\n",
    "        if point[1] < min_y:\n",
    "            min_y = point[1]\n",
    "            x_coor = point[0]\n",
    "        elif point[1] == min_y:\n",
    "            if point[0] < x_coor:\n",
    "                x_coor = point[0]\n",
    "    return x_coor, min_y\n",
    "   "
   ]
  },
  {
   "cell_type": "markdown",
   "metadata": {},
   "source": [
    "Use the cell below for all python code needed to generate test data points (both random and those representing worst-case scenario)."
   ]
  },
  {
   "cell_type": "code",
   "execution_count": 13,
   "metadata": {},
   "outputs": [],
   "source": [
    "import random\n",
    "\n",
    "#code for random data generation\n",
    "\n",
    "def generate_points(number_of_points):\n",
    "    inputSet = []\n",
    "\n",
    "    for point in range(number_of_points):\n",
    "        x = random.randint(0,32767)\n",
    "        y = random.randint(0,32767)\n",
    "\n",
    "        inputSet.append((x,y))\n",
    "    \n",
    "    return inputSet\n",
    "\n",
    "#code for worst case data generation\n",
    "\n"
   ]
  },
  {
   "cell_type": "markdown",
   "metadata": {},
   "source": [
    "Use the cell below for all python code needed to test the `grahamscan()` function on the data generated above."
   ]
  },
  {
   "cell_type": "code",
   "execution_count": 1,
   "metadata": {
    "scrolled": true
   },
   "outputs": [
    {
     "ename": "NameError",
     "evalue": "name 'generate_points' is not defined",
     "output_type": "error",
     "traceback": [
      "\u001b[1;31m---------------------------------------------------------------------------\u001b[0m",
      "\u001b[1;31mNameError\u001b[0m                                 Traceback (most recent call last)",
      "\u001b[1;32m<ipython-input-1-722f09ef56e1>\u001b[0m in \u001b[0;36m<module>\u001b[1;34m\u001b[0m\n\u001b[0;32m      1\u001b[0m \u001b[1;32mimport\u001b[0m \u001b[0mtimeit\u001b[0m\u001b[1;33m\u001b[0m\u001b[1;33m\u001b[0m\u001b[0m\n\u001b[0;32m      2\u001b[0m \u001b[1;31m#test code\u001b[0m\u001b[1;33m\u001b[0m\u001b[1;33m\u001b[0m\u001b[1;33m\u001b[0m\u001b[0m\n\u001b[1;32m----> 3\u001b[1;33m \u001b[0minput_set_100\u001b[0m \u001b[1;33m=\u001b[0m \u001b[0mgenerate_points\u001b[0m\u001b[1;33m(\u001b[0m\u001b[1;36m100\u001b[0m\u001b[1;33m)\u001b[0m\u001b[1;33m\u001b[0m\u001b[1;33m\u001b[0m\u001b[0m\n\u001b[0m\u001b[0;32m      4\u001b[0m \u001b[0minput_set_500\u001b[0m \u001b[1;33m=\u001b[0m \u001b[0mgenerate_points\u001b[0m\u001b[1;33m(\u001b[0m\u001b[1;36m500\u001b[0m\u001b[1;33m)\u001b[0m\u001b[1;33m\u001b[0m\u001b[1;33m\u001b[0m\u001b[0m\n\u001b[0;32m      5\u001b[0m \u001b[0minput_set_1000\u001b[0m \u001b[1;33m=\u001b[0m \u001b[0mgenerate_points\u001b[0m\u001b[1;33m(\u001b[0m\u001b[1;36m1000\u001b[0m\u001b[1;33m)\u001b[0m\u001b[1;33m\u001b[0m\u001b[1;33m\u001b[0m\u001b[0m\n",
      "\u001b[1;31mNameError\u001b[0m: name 'generate_points' is not defined"
     ]
    }
   ],
   "source": [
    "import timeit\n",
    "#test code\n",
    "input_set_100 = generate_points(100)\n",
    "input_set_500 = generate_points(500)\n",
    "input_set_1000 = generate_points(1000)\n",
    "input_set_5000 = generate_points(5000)\n",
    "input_set_10000 = generate_points(10000)\n",
    "input_set_15000 = generate_points(15000)\n",
    "input_set_20000 = generate_points(20000)\n",
    "\n",
    "start_time = timeit.default_timer()\n",
    "n = 100\n",
    "grahamscan(input_set_100)\n",
    "end_time = timeit.default_timer() - start_time\n",
    "print(f\"Time taken for {n} elements: \")\n",
    "print(end_time)\n",
    "print(\"\")\n",
    "\n",
    "start_time = timeit.default_timer()\n",
    "n = 500\n",
    "grahamscan(input_set_500)\n",
    "end_time = timeit.default_timer() - start_time\n",
    "print(f\"Time taken for {n} elements: \")\n",
    "print(end_time)\n",
    "print(\"\")\n",
    "\n",
    "start_time = timeit.default_timer()\n",
    "n = 1000\n",
    "grahamscan(input_set_1000)\n",
    "end_time = timeit.default_timer() - start_time\n",
    "print(f\"Time taken for {n} elements: \")\n",
    "print(end_time)\n",
    "print(\"\")\n",
    "\n",
    "start_time = timeit.default_timer()\n",
    "n = 5000\n",
    "grahamscan(input_set_5000)\n",
    "end_time = timeit.default_timer() - start_time\n",
    "print(f\"Time taken for {n} elements: \")\n",
    "print(end_time)\n",
    "print(\"\")\n",
    "\n",
    "start_time = timeit.default_timer()\n",
    "n = 10000\n",
    "grahamscan(input_set_10000)\n",
    "end_time = timeit.default_timer() - start_time\n",
    "print(f\"Time taken for {n} elements: \")\n",
    "print(end_time)\n",
    "print(\"\")\n",
    "\n",
    "start_time = timeit.default_timer()\n",
    "n = 15000\n",
    "grahamscan(input_set_15000)\n",
    "end_time = timeit.default_timer() - start_time\n",
    "print(f\"Time taken for {n} elements: \")\n",
    "print(end_time)\n",
    "print(\"\")\n",
    "\n",
    "start_time = timeit.default_timer()\n",
    "n = 20000\n",
    "grahamscan(input_set_20000)\n",
    "end_time = timeit.default_timer() - start_time\n",
    "print(f\"Time taken for {n} elements: \")\n",
    "print(end_time)\n",
    "print(\"\")\n"
   ]
  },
  {
   "cell_type": "markdown",
   "metadata": {},
   "source": [
    "*Oprional*: Feel free to use the code below on small datasets (e.g., N = 10) to visually inspect whether the algorithm has been implemented correctly. The fragment below assumes both `inputSet` and `outputSet` to be lists of 2D points, with each point being a list of 2 elements (e.g., `[[x1,y1], [x2,y2], ..., [x_k,y_k]]`)"
   ]
  },
  {
   "cell_type": "code",
   "execution_count": 5,
   "metadata": {},
   "outputs": [
    {
     "name": "stdout",
     "output_type": "stream",
     "text": [
      "generated: \n",
      "[(10465, 16351), (16314, 15399), (6344, 4371), (11694, 16603), (27802, 7928), (26239, 3761), (8127, 20502), (1307, 32026), (31716, 16356), (2905, 18160), (9671, 8964), (30371, 22658), (29762, 15992), (6849, 30886), (7119, 26748), (13866, 13119), (31463, 10680), (12679, 3436), (23117, 7088), (17408, 9163), (14873, 11486), (12788, 28747), (1498, 31855), (10603, 29402), (14601, 15608), (12295, 20313), (29012, 26729), (542, 22564), (16758, 14122), (3764, 13707), (30661, 24941), (29321, 29684), (2494, 5808), (25414, 26802), (2270, 19514), (14066, 27910), (8880, 16475), (23017, 4129), (30363, 20514), (20493, 30613), (24493, 7156), (21394, 9900), (27761, 10167), (23780, 17875), (32051, 15664), (1111, 372), (2625, 17213), (9116, 10441), (25398, 6143), (10307, 6176), (17923, 16360), (22979, 29567), (19016, 32348), (23721, 28578), (2651, 19480), (26123, 189), (4465, 1687), (433, 19319), (28874, 30227), (833, 29078), (4936, 20637), (1310, 26383), (22839, 15596), (2648, 25037), (16593, 28550), (26932, 11166), (14820, 1895), (19101, 12925), (21930, 25780), (30472, 20901), (1653, 26904), (30680, 7093), (26528, 7246), (20440, 22715), (32574, 10286), (9479, 27628), (3037, 3248), (18353, 929), (9340, 29499), (20941, 32084), (30313, 10851), (6613, 14211), (7828, 6847), (19162, 3285), (10399, 16490), (27752, 8106), (12872, 10489), (7461, 31496), (29744, 18630), (15310, 28551), (21239, 2151), (11029, 15983), (4769, 4055), (9147, 6778), (15066, 29511), (16662, 12708), (18797, 8905), (16082, 8225), (17421, 12199), (14423, 6355), (6504, 26575), (15901, 9746), (20604, 12319), (24919, 23193), (2854, 19400), (29013, 20969), (5460, 20957), (9842, 9719), (30889, 6077), (15710, 16030), (18009, 7512), (26256, 17446), (31869, 17277), (2236, 3366), (27245, 22941), (10579, 28897), (12918, 7153), (27446, 31454), (25038, 26474), (32279, 20023), (13504, 14814), (4004, 28915), (16160, 26747), (573, 7367), (24854, 10271), (11660, 7523), (32394, 780), (8710, 25555), (9701, 24498), (21992, 31164), (23048, 32110), (10592, 606), (31444, 4673), (5484, 13460), (26122, 21230), (9550, 3357), (11957, 23221), (27448, 30000), (7708, 30830), (5493, 11147), (26316, 3773), (17971, 3986), (2330, 8019), (23757, 8259), (13197, 17902), (24108, 6287), (61, 26697), (1149, 30361), (6170, 21744), (23502, 25341), (31486, 25472), (15295, 9931), (17443, 26589), (24387, 26111), (31080, 24045), (18471, 16830), (11758, 17298), (18586, 22353), (751, 25331), (10073, 10080), (19253, 6784), (12285, 16122), (8310, 19494), (890, 24057), (29499, 19267), (22933, 8853), (12127, 9635), (14630, 27020), (7860, 12468), (916, 26331), (17840, 235), (30335, 6184), (5221, 2471), (17581, 6921), (4551, 25233), (16943, 14612), (29420, 17368), (30778, 28584), (26992, 4480), (7895, 14985), (5810, 333), (32643, 8423), (28440, 13006), (30709, 30046), (28233, 10227), (20381, 9284), (10397, 18254), (3061, 9843), (17591, 20036), (25929, 30037), (27642, 10436), (12519, 19240), (27112, 13422), (19268, 18936), (9753, 10554), (306, 13260), (1810, 28635), (21838, 4644), (5612, 22607), (6547, 31311)]\n",
      "stack: \n",
      "<__main__.Stack object at 0x000001698DD7C700>\n",
      "final list: \n",
      "[(26123, 189), (32394, 780), (32643, 8423), (32279, 20023), (31486, 25472), (30709, 30046), (27446, 31454), (23048, 32110), (19016, 32348), (1307, 32026), (61, 26697), (306, 13260), (573, 7367), (1111, 372), (5810, 333), (17840, 235)]\n"
     ]
    },
    {
     "data": {
      "image/png": "[encoded data removed]",
      "text/plain": [
       "<Figure size 432x288 with 1 Axes>"
      ]
     },
     "metadata": {
      "needs_background": "light"
     },
     "output_type": "display_data"
    }
   ],
   "source": [
    "import matplotlib.pyplot as plt\n",
    "\n",
    "inputSet = generate_points(200) # list of tuples\n",
    "intermediate = grahamscan(inputSet) # stack\n",
    "outputSet = get_elems_stack(intermediate)\n",
    "print(\"generated: \")\n",
    "print(inputSet)\n",
    "print(\"stack: \")\n",
    "print(intermediate)\n",
    "print(\"final list: \")\n",
    "print(outputSet)\n",
    "\n",
    "# inputSet and outputSet should have been defined above. \n",
    "# uncomment the next two lines only if you wish to test the plotting code before coding your algorithm\n",
    "\n",
    "#inputSet = [[1,1], [2,2] , [3, 3], [4,4], [1,4], [3,1], [1, 5], [2, 4], [3, 5]]\n",
    "#outputSet = [[1,1], [3,1] , [4, 4], [3,5], [1,5]]\n",
    "\n",
    "plt.figure()\n",
    "\n",
    "#first do a scatter plot of the inputSet\n",
    "input_xs, input_ys = zip(*inputSet)\n",
    "plt.scatter(input_xs, input_ys)\n",
    "\n",
    "#then do a polygon plot of the computed covex hull\n",
    "outputSet.append(outputSet[0]) #first create a 'closed loop' by adding the first point at the end of the list\n",
    "output_xs, output_ys = zip(*outputSet) \n",
    "plt.plot(output_xs, output_ys) \n",
    "\n",
    "plt.show() "
   ]
  },
  {
   "cell_type": "code",
   "execution_count": null,
   "metadata": {},
   "outputs": [],
   "source": []
  }
 ],
 "metadata": {
  "kernelspec": {
   "display_name": "Python 3",
   "language": "python",
   "name": "python3"
  },
  "language_info": {
   "codemirror_mode": {
    "name": "ipython",
    "version": 3
   },
   "file_extension": ".py",
   "mimetype": "text/x-python",
   "name": "python",
   "nbconvert_exporter": "python",
   "pygments_lexer": "ipython3",
   "version": "3.8.5"
  }
 },
 "nbformat": 4,
 "nbformat_minor": 4
}
