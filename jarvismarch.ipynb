{
 "cells": [
  {
   "cell_type": "markdown",
   "metadata": {},
   "source": [
    "# Jarvis march algorithm"
   ]
  },
  {
   "cell_type": "markdown",
   "metadata": {},
   "source": [
    "Use the cell below for all python code needed to realise the Jarvis march algorithm (including any auxiliary data structures and functions you might need). The `jarvismarch()` function itself should take as input parameter a list of 2D points (`inputSet`), and return the subset of such points (`outputSet`) that lie on the convex hull."
   ]
  },
  {
   "cell_type": "code",
   "execution_count": 2,
   "metadata": {},
   "outputs": [],
   "source": [
    "def starting_point(inputSet):\n",
    "    number = 32767\n",
    "\n",
    "    for point in inputSet:\n",
    "        if point[0] < number:\n",
    "            number = point[0]\n",
    "            st_point = point\n",
    "\n",
    "    return st_point\n",
    "\n",
    "\n",
    "def cross_product(a, b, c):\n",
    "    v1 = (a[0] - b[0], a[1] - b[1])\n",
    "    v2 = (a[0] - c[0], a[1] - c[1])\n",
    "\n",
    "    return v2[1] * v1[0] - v1[1] * v2[0]\n",
    "\n",
    "\n",
    "def distance(a, b, c):\n",
    "    v1 = (a[0] - b[0], a[1] - b[1])\n",
    "    v2 = (a[0] - c[0], a[1] - c[1])\n",
    "    d_ab = (v1[1] * v1[1] + v1[0] * v1[0])\n",
    "    d_ac = (v2[1] * v2[1] + v2[0] * v2[0])\n",
    "\n",
    "    return d_ab - d_ac\n",
    "\n",
    "def jarvis_march(inputSet):\n",
    "    result = []\n",
    "    collinear = []\n",
    "    result.append(starting_point(inputSet))\n",
    "    current_point = starting_point(inputSet)\n",
    "    while True:\n",
    "        next_point = inputSet[0]\n",
    "        for i in range(len(inputSet)):\n",
    "            if i == 0:\n",
    "                continue\n",
    "            if inputSet[i] == current_point:\n",
    "                continue\n",
    "            value = cross_product(current_point, next_point, inputSet[i])\n",
    "            if value > 0:\n",
    "                next_point = inputSet[i]\n",
    "                collinear = []\n",
    "            elif value == 0:\n",
    "                if distance(current_point, next_point, inputSet[i]) < 0:\n",
    "                    collinear.append(next_point)\n",
    "                    next_point = inputSet[i]\n",
    "                else:\n",
    "                    collinear.append(inputSet[i])\n",
    "\n",
    "        for point in collinear:\n",
    "            result.append(point)\n",
    "\n",
    "        if next_point == starting_point(inputSet):\n",
    "            break\n",
    "\n",
    "        result.append(next_point)\n",
    "        current_point = next_point\n",
    "    print(\"jarvis march completed\")\n",
    "    return result"
   ]
  },
  {
   "cell_type": "markdown",
   "metadata": {},
   "source": [
    "Use the cell below for all python code needed to generate test data points (both random and those representing worst-case scenario)."
   ]
  },
  {
   "cell_type": "code",
   "execution_count": 3,
   "metadata": {},
   "outputs": [],
   "source": [
    "import random\n",
    "import math\n",
    "\n",
    "#code for random data generation\n",
    "def random_input(n):\n",
    "    random_set = set()\n",
    "    while len(random_set) < n:\n",
    "        x = random.randint(0, 32767)\n",
    "        y = random.randint(0, 32767)\n",
    "        random_set.add((x, y))\n",
    "    return list(random_set)\n",
    "#code for worst case data generation\n",
    "def worst_input(n):\n",
    "    random_set = set()\n",
    "    c_x = 16383\n",
    "    c_y = 16383\n",
    "    r = 16000\n",
    "\n",
    "    while len(random_set) < n:\n",
    "        alpha = 2 * math.pi * random.random()\n",
    "        x = (r * math.cos(alpha) + c_x)\n",
    "        y = (r * math.sin(alpha) + c_y)\n",
    "        random_set.add((x, y))\n",
    "    return list(random_set)"
   ]
  },
  {
   "cell_type": "markdown",
   "metadata": {},
   "source": [
    "Use the cell below for all python code needed to test the `jarvismarch()` function on the data generated above."
   ]
  },
  {
   "cell_type": "code",
   "execution_count": 4,
   "metadata": {},
   "outputs": [],
   "source": [
    "import timeit\n",
    "\n",
    "#test code\n",
    "def random_average_time(n):\n",
    "    times = []\n",
    "    for i in range(0, 5):\n",
    "        input_set = random_input(n)\n",
    "        start_time = timeit.default_timer()\n",
    "        jarvis_march(input_set)\n",
    "        end_time = timeit.default_timer() - start_time\n",
    "        times.append(end_time)\n",
    "    average = sum(times) / len(times)\n",
    "    print(\"random average time for \", n, \"points: \", average)\n",
    "    return average\n",
    "\n",
    "def worst_average_time(n):\n",
    "    times = []\n",
    "    for i in range(0, 5):\n",
    "        input_set = worst_input (n)\n",
    "        start_time = timeit.default_timer()\n",
    "        jarvis_march(input_set)\n",
    "        end_time = timeit.default_timer() - start_time\n",
    "        times.append(end_time)\n",
    "    average = sum(times) / len(times)\n",
    "    print(\"worst average time for \", n, \"points: \", average)\n",
    "    return average\n",
    "\n"
   ]
  },
  {
   "cell_type": "markdown",
   "metadata": {},
   "source": [
    "*Optional*: Feel free to use the code below on small datasets (e.g., N = 10) to visually inspect whether the algorithm has been implemented correctly. The fragment below assumes both `inputSet` and `outputSet` to be lists of 2D points, with each point being a list of 2 elements (e.g., `[[x1,y1], [x2,y2], ..., [x_k,y_k]]`)"
   ]
  },
  {
   "cell_type": "code",
   "execution_count": 5,
   "metadata": {},
   "outputs": [
    {
     "name": "stdout",
     "output_type": "stream",
     "text": [
      "jarvis march completed\n"
     ]
    },
    {
     "data": {
      "image/png": "[encoded data removed]",
      "text/plain": [
       "<Figure size 432x288 with 1 Axes>"
      ]
     },
     "metadata": {
      "needs_background": "light"
     },
     "output_type": "display_data"
    }
   ],
   "source": [
    "import matplotlib.pyplot as plt\n",
    "\n",
    "# inputSet and outputSet should have been defined above. \n",
    "# uncomment the next two lines only if you wish to test the plotting code before coding your algorithm\n",
    "\n",
    "inputSet = worst_input(1000)\n",
    "outputSet = jarvis_march(inputSet)\n",
    "\n",
    "plt.figure()\n",
    "\n",
    "#first do a scatter plot of the inputSet\n",
    "input_xs, input_ys = zip(*inputSet)\n",
    "plt.scatter(input_xs, input_ys)\n",
    "\n",
    "#then do a polygon plot of the computed covex hull\n",
    "outputSet.append(outputSet[0]) #first create a 'closed loop' by adding the first point at the end of the list\n",
    "output_xs, output_ys = zip(*outputSet) \n",
    "plt.plot(output_xs, output_ys) \n",
    "\n",
    "plt.show() "
   ]
  }
 ],
 "metadata": {
  "kernelspec": {
   "display_name": "Python 3",
   "language": "python",
   "name": "python3"
  },
  "language_info": {
   "codemirror_mode": {
    "name": "ipython",
    "version": 3
   },
   "file_extension": ".py",
   "mimetype": "text/x-python",
   "name": "python",
   "nbconvert_exporter": "python",
   "pygments_lexer": "ipython3",
   "version": "3.8.5"
  }
 },
 "nbformat": 4,
 "nbformat_minor": 4
}
